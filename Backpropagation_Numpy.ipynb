{
 "cells": [
  {
   "cell_type": "code",
   "execution_count": 17,
   "metadata": {},
   "outputs": [],
   "source": [
    "import numpy as np \n",
    "import matplotlib.pyplot as plt\n",
    "import seaborn as sns\n",
    "from pylab import rcParams\n",
    "\n",
    "from preprocessing import *\n",
    "%matplotlib inline\n",
    "\n",
    "sns.set(style=\"whitegrid\", palette='muted', font_scale=1.5)\n",
    "rcParams['figure.figsize'] = 12,6\n",
    "np.random.seed(42)"
   ]
  },
  {
   "cell_type": "code",
   "execution_count": 19,
   "metadata": {},
   "outputs": [],
   "source": [
    "x = np.linspace(-10., 10., num=100)\n",
    "sig=1/(1+np.exp(-x))\n",
    "sigprime = sig * (1-sig)"
   ]
  },
  {
   "cell_type": "code",
   "execution_count": 20,
   "metadata": {},
   "outputs": [
    {
     "data": {
      "image/png": "[encoded data removed]",
      "text/plain": [
       "<matplotlib.figure.Figure at 0x2517fe28a90>"
      ]
     },
     "metadata": {},
     "output_type": "display_data"
    }
   ],
   "source": [
    "plt.plot(x, sig, label=\"sigmoid\")\n",
    "plt.plot(x, sigprime, label=\"sigmoid prime\")\n",
    "plt.xlabel(\"x\")\n",
    "plt.ylabel(\"y\")\n",
    "plt.legend(prop={'size' : 16})\n",
    "plt.show()"
   ]
  },
  {
   "cell_type": "code",
   "execution_count": 23,
   "metadata": {},
   "outputs": [],
   "source": [
    "def softmax(x):\n",
    "    e_x = np.exp(x - np.max(x))\n",
    "    return e_x / e_x.sum()"
   ]
  },
  {
   "cell_type": "code",
   "execution_count": 24,
   "metadata": {},
   "outputs": [
    {
     "data": {
      "text/plain": [
       "array([[0.00214401, 0.0158422 , 0.11705891, 0.86495488]])"
      ]
     },
     "execution_count": 24,
     "metadata": {},
     "output_type": "execute_result"
    }
   ],
   "source": [
    "softmax(np.array([[2,4,6,8]]))"
   ]
  },
  {
   "cell_type": "markdown",
   "metadata": {},
   "source": [
    "Defining hyperparameters"
   ]
  },
  {
   "cell_type": "code",
   "execution_count": 54,
   "metadata": {},
   "outputs": [],
   "source": [
    "epochs =50000\n",
    "input_size=2;\n",
    "hidden_size=3;\n",
    "output_size=1;\n",
    "Learning_Rate =0.1"
   ]
  },
  {
   "cell_type": "code",
   "execution_count": 55,
   "metadata": {},
   "outputs": [],
   "source": [
    "X=np.array( [[0,0], [0,1], [1,0], [1,1]])\n",
    "y=np.array([ [0], [1], [1], [0]])"
   ]
  },
  {
   "cell_type": "code",
   "execution_count": 56,
   "metadata": {},
   "outputs": [
    {
     "name": "stdout",
     "output_type": "stream",
     "text": [
      "[[0.62329813 0.33089802 0.06355835]\n",
      " [0.31098232 0.32518332 0.72960618]]\n",
      "[[0.63755747]\n",
      " [0.88721274]\n",
      " [0.47221493]]\n"
     ]
    }
   ],
   "source": [
    "w_hidden = np.random.uniform(size=(input_size,hidden_size))\n",
    "w_output = np.random.uniform(size=(hidden_size,output_size))\n",
    "print(w_hidden)\n",
    "print(w_output)\n"
   ]
  },
  {
   "cell_type": "code",
   "execution_count": 57,
   "metadata": {},
   "outputs": [],
   "source": [
    "def sigmoid(x):\n",
    "    sig = 1/(1+np.exp(-x))\n",
    "    return sig"
   ]
  },
  {
   "cell_type": "code",
   "execution_count": 58,
   "metadata": {},
   "outputs": [],
   "source": [
    "def sigmoid_prime(x):\n",
    "    sigmoid_prime = sigmoid(x) * sigmoid(1-x)\n",
    "    return sigmoid_prime"
   ]
  },
  {
   "cell_type": "code",
   "execution_count": 59,
   "metadata": {},
   "outputs": [
    {
     "name": "stdout",
     "output_type": "stream",
     "text": [
      "error sum [-2.74211298]\n",
      "error sum [-0.00045705]\n",
      "error sum [-0.00049855]\n",
      "error sum [-0.0090116]\n",
      "error sum [-0.00702469]\n",
      "error sum [8.75039299e-05]\n",
      "error sum [3.23861092e-05]\n",
      "error sum [1.20229402e-05]\n",
      "error sum [4.46835812e-06]\n",
      "error sum [1.66136469e-06]\n"
     ]
    }
   ],
   "source": [
    "for epoch in range(epochs):\n",
    "    activation_hidden = sigmoid(np.dot(X, w_hidden))\n",
    "    y_output = np.dot(activation_hidden, w_output)\n",
    "    \n",
    "    error = y - y_output\n",
    "    \n",
    "    if(epoch % 5000 == 0):\n",
    "        print(f'error sum {sum(error)}')\n",
    "    \n",
    "    dZ = error * Learning_Rate\n",
    "    w_output += activation_hidden.T.dot(dZ)\n",
    "    dH = dZ.dot(w_output.T) * sigmoid_prime(activation_hidden)\n",
    "    w_hidden += X.T.dot(dH)"
   ]
  },
  {
   "cell_type": "code",
   "execution_count": 60,
   "metadata": {},
   "outputs": [
    {
     "data": {
      "text/plain": [
       "array([1.00000177])"
      ]
     },
     "execution_count": 60,
     "metadata": {},
     "output_type": "execute_result"
    }
   ],
   "source": [
    "X_test = X[1]\n",
    "activation_hidden = sigmoid(np.dot(X_test, w_hidden))\n",
    "np.dot(activation_hidden, w_output)"
   ]
  },
  {
   "cell_type": "code",
   "execution_count": 62,
   "metadata": {},
   "outputs": [
    {
     "data": {
      "text/plain": [
       "array([-1.79345438e-06])"
      ]
     },
     "execution_count": 62,
     "metadata": {},
     "output_type": "execute_result"
    }
   ],
   "source": [
    "X_test  = X[3]\n",
    "activation_hidden = sigmoid(np.dot(X_test, w_hidden))\n",
    "np.dot(activation_hidden, w_output)"
   ]
  },
  {
   "cell_type": "markdown",
   "metadata": {},
   "source": [
    "We got the desired outputs as required by the XOR function"
   ]
  },
  {
   "cell_type": "code",
   "execution_count": null,
   "metadata": {},
   "outputs": [],
   "source": []
  }
 ],
 "metadata": {
  "kernelspec": {
   "display_name": "Python 3",
   "language": "python",
   "name": "python3"
  },
  "language_info": {
   "codemirror_mode": {
    "name": "ipython",
    "version": 3
   },
   "file_extension": ".py",
   "mimetype": "text/x-python",
   "name": "python",
   "nbconvert_exporter": "python",
   "pygments_lexer": "ipython3",
   "version": "3.6.1"
  }
 },
 "nbformat": 4,
 "nbformat_minor": 2
}
